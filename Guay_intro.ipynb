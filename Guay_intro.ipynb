{
 "cells": [
  {
   "cell_type": "markdown",
   "id": "9b16048a-8e2d-477e-9aa9-a19a94281e1b",
   "metadata": {},
   "source": [
    "# Week 1 Notebook"
   ]
  },
  {
   "cell_type": "markdown",
   "id": "cae2c3aa-f85f-4582-b235-be69f1fe4f85",
   "metadata": {},
   "source": [
    "## Saniyah Guay\n"
   ]
  },
  {
   "cell_type": "code",
   "execution_count": 4,
   "id": "9d85b352-4e53-4685-8e5d-7588ac857ad7",
   "metadata": {},
   "outputs": [
    {
     "name": "stdout",
     "output_type": "stream",
     "text": [
      "[59, 34, 45, 34, 71, 40, 72, 46, 76, 85, 34, 68, 91, 66, 78, 74, 90, 84, 54, 82, 45, 81, 88, 72, 75, 41, 50, 34, 75, 79, 63, 55, 53, 95, 95, 92, 78, 48, 32, 89]\n"
     ]
    }
   ],
   "source": [
    "import random \n",
    "nums = [random.randint(30,100) for x in range(40)]\n",
    "print(nums)"
   ]
  },
  {
   "cell_type": "code",
   "execution_count": 6,
   "id": "7faba0f1-fe3b-453d-aa6e-66c28c4da1ad",
   "metadata": {},
   "outputs": [
    {
     "name": "stdout",
     "output_type": "stream",
     "text": [
      "[32, 34, 34, 34, 34, 40, 41, 45, 45, 46, 48, 50, 53, 54, 55, 59, 63, 66, 68, 71, 72, 72, 74, 75, 75, 76, 78, 78, 79, 81, 82, 84, 85, 88, 89, 90, 91, 92, 95, 95]\n"
     ]
    }
   ],
   "source": [
    "nums.sort()\n",
    "print(nums)"
   ]
  },
  {
   "cell_type": "markdown",
   "id": "cd8e8c66-5d60-4786-b826-5a7964e03651",
   "metadata": {},
   "source": [
    "## The Sample Mean\n",
    "- Add all the given values together\n",
    "- divide by the number of values"
   ]
  },
  {
   "cell_type": "markdown",
   "id": "4ca31524-60ca-4eb8-aa5f-5f706c85448c",
   "metadata": {},
   "source": [
    "$$\n",
    "\\bar{x} = \\frac{\\sum_{i=1}^{n} x_i}{n}\n",
    "$$"
   ]
  },
  {
   "cell_type": "code",
   "execution_count": 8,
   "id": "60ffc6e7-03cb-4f3b-b52f-b204896f3eed",
   "metadata": {},
   "outputs": [
    {
     "name": "stdout",
     "output_type": "stream",
     "text": [
      "65.58\n"
     ]
    }
   ],
   "source": [
    "mean = sum(nums) / len(nums)\n",
    "print(f'{mean:.2f}')"
   ]
  },
  {
   "cell_type": "markdown",
   "id": "9bc839f7-817a-40bf-ba4b-688db23dea8b",
   "metadata": {},
   "source": [
    "## The Median \n",
    "https://www.ncbi.nlm.nih.gov/books/NBK470533/#:~:text=The%20median%20is%20the%20middle,%5D%5B3%5D%5B4%5D"
   ]
  },
  {
   "cell_type": "code",
   "execution_count": 4,
   "id": "83bb8c85-aaa6-48eb-a87d-891257b0ce3a",
   "metadata": {},
   "outputs": [],
   "source": [
    "# Sort list in ascending order\n",
    "# Find the two middle numbers\n",
    "# take average of those two numbers"
   ]
  },
  {
   "cell_type": "code",
   "execution_count": 14,
   "id": "195b27fe-5d3f-45c3-8bdb-cfaae1b63920",
   "metadata": {},
   "outputs": [
    {
     "name": "stdout",
     "output_type": "stream",
     "text": [
      "71.5\n"
     ]
    }
   ],
   "source": [
    "sorted_nums = sorted(nums)  # Sort the numbers first\n",
    "n = len(sorted_nums)  # Get the length of the list\n",
    "\n",
    "if n % 2 == 0:\n",
    "    median = (sorted_nums[n//2 - 1] + sorted_nums[n//2]) / 2\n",
    "else:\n",
    "    median = sorted_nums[n//2]\n",
    "\n",
    "print(f'{median:.1f}')"
   ]
  },
  {
   "cell_type": "code",
   "execution_count": null,
   "id": "665ad7d0-e542-40fb-a02d-8b326e9a9e33",
   "metadata": {},
   "outputs": [],
   "source": []
  }
 ],
 "metadata": {
  "kernelspec": {
   "display_name": "Python 3 (ipykernel)",
   "language": "python",
   "name": "python3"
  },
  "language_info": {
   "codemirror_mode": {
    "name": "ipython",
    "version": 3
   },
   "file_extension": ".py",
   "mimetype": "text/x-python",
   "name": "python",
   "nbconvert_exporter": "python",
   "pygments_lexer": "ipython3",
   "version": "3.12.4"
  }
 },
 "nbformat": 4,
 "nbformat_minor": 5
}
